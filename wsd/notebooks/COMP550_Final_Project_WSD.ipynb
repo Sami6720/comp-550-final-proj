{
  "nbformat": 4,
  "nbformat_minor": 0,
  "metadata": {
    "colab": {
      "provenance": []
    },
    "kernelspec": {
      "name": "python3",
      "display_name": "Python 3"
    },
    "language_info": {
      "name": "python"
    }
  },
  "cells": [
    {
      "cell_type": "markdown",
      "source": [
        "#Import Required Packages + Tools"
      ],
      "metadata": {
        "id": "Ybhz4bb4hxYx"
      }
    },
    {
      "cell_type": "code",
      "execution_count": 1,
      "metadata": {
        "colab": {
          "base_uri": "https://localhost:8080/"
        },
        "id": "NIqYdwPddAPE",
        "outputId": "4a2b98bb-f26c-4741-aad0-dc94d4a9bf3b"
      },
      "outputs": [
        {
          "output_type": "stream",
          "name": "stderr",
          "text": [
            "[nltk_data] Downloading package wordnet to /root/nltk_data...\n",
            "[nltk_data]   Package wordnet is already up-to-date!\n"
          ]
        },
        {
          "output_type": "stream",
          "name": "stdout",
          "text": [
            "Requirement already satisfied: ruwordnet in /usr/local/lib/python3.10/dist-packages (0.0.6)\n",
            "Requirement already satisfied: sqlalchemy<2.0 in /usr/local/lib/python3.10/dist-packages (from ruwordnet) (1.4.50)\n",
            "Requirement already satisfied: greenlet!=0.4.17 in /usr/local/lib/python3.10/dist-packages (from sqlalchemy<2.0->ruwordnet) (3.0.2)\n",
            "downloading a ruwordnet model from https://github.com/avidale/python-ruwordnet/releases/download/0.0.4/ruwordnet-2021.db\n",
            "2023-12-16 19:40:40.585709: E external/local_xla/xla/stream_executor/cuda/cuda_dnn.cc:9261] Unable to register cuDNN factory: Attempting to register factory for plugin cuDNN when one has already been registered\n",
            "2023-12-16 19:40:40.585781: E external/local_xla/xla/stream_executor/cuda/cuda_fft.cc:607] Unable to register cuFFT factory: Attempting to register factory for plugin cuFFT when one has already been registered\n",
            "2023-12-16 19:40:40.587496: E external/local_xla/xla/stream_executor/cuda/cuda_blas.cc:1515] Unable to register cuBLAS factory: Attempting to register factory for plugin cuBLAS when one has already been registered\n",
            "2023-12-16 19:40:41.904687: W tensorflow/compiler/tf2tensorrt/utils/py_utils.cc:38] TF-TRT Warning: Could not find TensorRT\n",
            "Collecting en-core-web-lg==3.6.0\n",
            "  Downloading https://github.com/explosion/spacy-models/releases/download/en_core_web_lg-3.6.0/en_core_web_lg-3.6.0-py3-none-any.whl (587.7 MB)\n",
            "\u001b[2K     \u001b[90m━━━━━━━━━━━━━━━━━━━━━━━━━━━━━━━━━━━━━━━━\u001b[0m \u001b[32m587.7/587.7 MB\u001b[0m \u001b[31m996.7 kB/s\u001b[0m eta \u001b[36m0:00:00\u001b[0m\n",
            "\u001b[?25hRequirement already satisfied: spacy<3.7.0,>=3.6.0 in /usr/local/lib/python3.10/dist-packages (from en-core-web-lg==3.6.0) (3.6.1)\n",
            "Requirement already satisfied: spacy-legacy<3.1.0,>=3.0.11 in /usr/local/lib/python3.10/dist-packages (from spacy<3.7.0,>=3.6.0->en-core-web-lg==3.6.0) (3.0.12)\n",
            "Requirement already satisfied: spacy-loggers<2.0.0,>=1.0.0 in /usr/local/lib/python3.10/dist-packages (from spacy<3.7.0,>=3.6.0->en-core-web-lg==3.6.0) (1.0.5)\n",
            "Requirement already satisfied: murmurhash<1.1.0,>=0.28.0 in /usr/local/lib/python3.10/dist-packages (from spacy<3.7.0,>=3.6.0->en-core-web-lg==3.6.0) (1.0.10)\n",
            "Requirement already satisfied: cymem<2.1.0,>=2.0.2 in /usr/local/lib/python3.10/dist-packages (from spacy<3.7.0,>=3.6.0->en-core-web-lg==3.6.0) (2.0.8)\n",
            "Requirement already satisfied: preshed<3.1.0,>=3.0.2 in /usr/local/lib/python3.10/dist-packages (from spacy<3.7.0,>=3.6.0->en-core-web-lg==3.6.0) (3.0.9)\n",
            "Requirement already satisfied: thinc<8.2.0,>=8.1.8 in /usr/local/lib/python3.10/dist-packages (from spacy<3.7.0,>=3.6.0->en-core-web-lg==3.6.0) (8.1.12)\n",
            "Requirement already satisfied: wasabi<1.2.0,>=0.9.1 in /usr/local/lib/python3.10/dist-packages (from spacy<3.7.0,>=3.6.0->en-core-web-lg==3.6.0) (1.1.2)\n",
            "Requirement already satisfied: srsly<3.0.0,>=2.4.3 in /usr/local/lib/python3.10/dist-packages (from spacy<3.7.0,>=3.6.0->en-core-web-lg==3.6.0) (2.4.8)\n",
            "Requirement already satisfied: catalogue<2.1.0,>=2.0.6 in /usr/local/lib/python3.10/dist-packages (from spacy<3.7.0,>=3.6.0->en-core-web-lg==3.6.0) (2.0.10)\n",
            "Requirement already satisfied: typer<0.10.0,>=0.3.0 in /usr/local/lib/python3.10/dist-packages (from spacy<3.7.0,>=3.6.0->en-core-web-lg==3.6.0) (0.9.0)\n",
            "Requirement already satisfied: pathy>=0.10.0 in /usr/local/lib/python3.10/dist-packages (from spacy<3.7.0,>=3.6.0->en-core-web-lg==3.6.0) (0.10.3)\n",
            "Requirement already satisfied: smart-open<7.0.0,>=5.2.1 in /usr/local/lib/python3.10/dist-packages (from spacy<3.7.0,>=3.6.0->en-core-web-lg==3.6.0) (6.4.0)\n",
            "Requirement already satisfied: tqdm<5.0.0,>=4.38.0 in /usr/local/lib/python3.10/dist-packages (from spacy<3.7.0,>=3.6.0->en-core-web-lg==3.6.0) (4.66.1)\n",
            "Requirement already satisfied: numpy>=1.15.0 in /usr/local/lib/python3.10/dist-packages (from spacy<3.7.0,>=3.6.0->en-core-web-lg==3.6.0) (1.23.5)\n",
            "Requirement already satisfied: requests<3.0.0,>=2.13.0 in /usr/local/lib/python3.10/dist-packages (from spacy<3.7.0,>=3.6.0->en-core-web-lg==3.6.0) (2.31.0)\n",
            "Requirement already satisfied: pydantic!=1.8,!=1.8.1,<3.0.0,>=1.7.4 in /usr/local/lib/python3.10/dist-packages (from spacy<3.7.0,>=3.6.0->en-core-web-lg==3.6.0) (1.10.13)\n",
            "Requirement already satisfied: jinja2 in /usr/local/lib/python3.10/dist-packages (from spacy<3.7.0,>=3.6.0->en-core-web-lg==3.6.0) (3.1.2)\n",
            "Requirement already satisfied: setuptools in /usr/local/lib/python3.10/dist-packages (from spacy<3.7.0,>=3.6.0->en-core-web-lg==3.6.0) (67.7.2)\n",
            "Requirement already satisfied: packaging>=20.0 in /usr/local/lib/python3.10/dist-packages (from spacy<3.7.0,>=3.6.0->en-core-web-lg==3.6.0) (23.2)\n",
            "Requirement already satisfied: langcodes<4.0.0,>=3.2.0 in /usr/local/lib/python3.10/dist-packages (from spacy<3.7.0,>=3.6.0->en-core-web-lg==3.6.0) (3.3.0)\n",
            "Requirement already satisfied: typing-extensions>=4.2.0 in /usr/local/lib/python3.10/dist-packages (from pydantic!=1.8,!=1.8.1,<3.0.0,>=1.7.4->spacy<3.7.0,>=3.6.0->en-core-web-lg==3.6.0) (4.5.0)\n",
            "Requirement already satisfied: charset-normalizer<4,>=2 in /usr/local/lib/python3.10/dist-packages (from requests<3.0.0,>=2.13.0->spacy<3.7.0,>=3.6.0->en-core-web-lg==3.6.0) (3.3.2)\n",
            "Requirement already satisfied: idna<4,>=2.5 in /usr/local/lib/python3.10/dist-packages (from requests<3.0.0,>=2.13.0->spacy<3.7.0,>=3.6.0->en-core-web-lg==3.6.0) (3.6)\n",
            "Requirement already satisfied: urllib3<3,>=1.21.1 in /usr/local/lib/python3.10/dist-packages (from requests<3.0.0,>=2.13.0->spacy<3.7.0,>=3.6.0->en-core-web-lg==3.6.0) (2.0.7)\n",
            "Requirement already satisfied: certifi>=2017.4.17 in /usr/local/lib/python3.10/dist-packages (from requests<3.0.0,>=2.13.0->spacy<3.7.0,>=3.6.0->en-core-web-lg==3.6.0) (2023.11.17)\n",
            "Requirement already satisfied: blis<0.8.0,>=0.7.8 in /usr/local/lib/python3.10/dist-packages (from thinc<8.2.0,>=8.1.8->spacy<3.7.0,>=3.6.0->en-core-web-lg==3.6.0) (0.7.11)\n",
            "Requirement already satisfied: confection<1.0.0,>=0.0.1 in /usr/local/lib/python3.10/dist-packages (from thinc<8.2.0,>=8.1.8->spacy<3.7.0,>=3.6.0->en-core-web-lg==3.6.0) (0.1.4)\n",
            "Requirement already satisfied: click<9.0.0,>=7.1.1 in /usr/local/lib/python3.10/dist-packages (from typer<0.10.0,>=0.3.0->spacy<3.7.0,>=3.6.0->en-core-web-lg==3.6.0) (8.1.7)\n",
            "Requirement already satisfied: MarkupSafe>=2.0 in /usr/local/lib/python3.10/dist-packages (from jinja2->spacy<3.7.0,>=3.6.0->en-core-web-lg==3.6.0) (2.1.3)\n",
            "\u001b[38;5;2m✔ Download and installation successful\u001b[0m\n",
            "You can now load the package via spacy.load('en_core_web_lg')\n",
            "2023-12-16 19:41:33.016663: E external/local_xla/xla/stream_executor/cuda/cuda_dnn.cc:9261] Unable to register cuDNN factory: Attempting to register factory for plugin cuDNN when one has already been registered\n",
            "2023-12-16 19:41:33.016730: E external/local_xla/xla/stream_executor/cuda/cuda_fft.cc:607] Unable to register cuFFT factory: Attempting to register factory for plugin cuFFT when one has already been registered\n",
            "2023-12-16 19:41:33.018296: E external/local_xla/xla/stream_executor/cuda/cuda_blas.cc:1515] Unable to register cuBLAS factory: Attempting to register factory for plugin cuBLAS when one has already been registered\n",
            "2023-12-16 19:41:34.338125: W tensorflow/compiler/tf2tensorrt/utils/py_utils.cc:38] TF-TRT Warning: Could not find TensorRT\n",
            "Collecting ru-core-news-lg==3.6.0\n",
            "  Downloading https://github.com/explosion/spacy-models/releases/download/ru_core_news_lg-3.6.0/ru_core_news_lg-3.6.0-py3-none-any.whl (513.4 MB)\n",
            "\u001b[2K     \u001b[90m━━━━━━━━━━━━━━━━━━━━━━━━━━━━━━━━━━━━━━━━\u001b[0m \u001b[32m513.4/513.4 MB\u001b[0m \u001b[31m1.7 MB/s\u001b[0m eta \u001b[36m0:00:00\u001b[0m\n",
            "\u001b[?25hRequirement already satisfied: spacy<3.7.0,>=3.6.0 in /usr/local/lib/python3.10/dist-packages (from ru-core-news-lg==3.6.0) (3.6.1)\n",
            "Requirement already satisfied: pymorphy3>=1.0.0 in /usr/local/lib/python3.10/dist-packages (from ru-core-news-lg==3.6.0) (1.3.1)\n",
            "Requirement already satisfied: dawg-python>=0.7.1 in /usr/local/lib/python3.10/dist-packages (from pymorphy3>=1.0.0->ru-core-news-lg==3.6.0) (0.7.2)\n",
            "Requirement already satisfied: pymorphy3-dicts-ru in /usr/local/lib/python3.10/dist-packages (from pymorphy3>=1.0.0->ru-core-news-lg==3.6.0) (2.4.417150.4580142)\n",
            "Requirement already satisfied: spacy-legacy<3.1.0,>=3.0.11 in /usr/local/lib/python3.10/dist-packages (from spacy<3.7.0,>=3.6.0->ru-core-news-lg==3.6.0) (3.0.12)\n",
            "Requirement already satisfied: spacy-loggers<2.0.0,>=1.0.0 in /usr/local/lib/python3.10/dist-packages (from spacy<3.7.0,>=3.6.0->ru-core-news-lg==3.6.0) (1.0.5)\n",
            "Requirement already satisfied: murmurhash<1.1.0,>=0.28.0 in /usr/local/lib/python3.10/dist-packages (from spacy<3.7.0,>=3.6.0->ru-core-news-lg==3.6.0) (1.0.10)\n",
            "Requirement already satisfied: cymem<2.1.0,>=2.0.2 in /usr/local/lib/python3.10/dist-packages (from spacy<3.7.0,>=3.6.0->ru-core-news-lg==3.6.0) (2.0.8)\n",
            "Requirement already satisfied: preshed<3.1.0,>=3.0.2 in /usr/local/lib/python3.10/dist-packages (from spacy<3.7.0,>=3.6.0->ru-core-news-lg==3.6.0) (3.0.9)\n",
            "Requirement already satisfied: thinc<8.2.0,>=8.1.8 in /usr/local/lib/python3.10/dist-packages (from spacy<3.7.0,>=3.6.0->ru-core-news-lg==3.6.0) (8.1.12)\n",
            "Requirement already satisfied: wasabi<1.2.0,>=0.9.1 in /usr/local/lib/python3.10/dist-packages (from spacy<3.7.0,>=3.6.0->ru-core-news-lg==3.6.0) (1.1.2)\n",
            "Requirement already satisfied: srsly<3.0.0,>=2.4.3 in /usr/local/lib/python3.10/dist-packages (from spacy<3.7.0,>=3.6.0->ru-core-news-lg==3.6.0) (2.4.8)\n",
            "Requirement already satisfied: catalogue<2.1.0,>=2.0.6 in /usr/local/lib/python3.10/dist-packages (from spacy<3.7.0,>=3.6.0->ru-core-news-lg==3.6.0) (2.0.10)\n",
            "Requirement already satisfied: typer<0.10.0,>=0.3.0 in /usr/local/lib/python3.10/dist-packages (from spacy<3.7.0,>=3.6.0->ru-core-news-lg==3.6.0) (0.9.0)\n",
            "Requirement already satisfied: pathy>=0.10.0 in /usr/local/lib/python3.10/dist-packages (from spacy<3.7.0,>=3.6.0->ru-core-news-lg==3.6.0) (0.10.3)\n",
            "Requirement already satisfied: smart-open<7.0.0,>=5.2.1 in /usr/local/lib/python3.10/dist-packages (from spacy<3.7.0,>=3.6.0->ru-core-news-lg==3.6.0) (6.4.0)\n",
            "Requirement already satisfied: tqdm<5.0.0,>=4.38.0 in /usr/local/lib/python3.10/dist-packages (from spacy<3.7.0,>=3.6.0->ru-core-news-lg==3.6.0) (4.66.1)\n",
            "Requirement already satisfied: numpy>=1.15.0 in /usr/local/lib/python3.10/dist-packages (from spacy<3.7.0,>=3.6.0->ru-core-news-lg==3.6.0) (1.23.5)\n",
            "Requirement already satisfied: requests<3.0.0,>=2.13.0 in /usr/local/lib/python3.10/dist-packages (from spacy<3.7.0,>=3.6.0->ru-core-news-lg==3.6.0) (2.31.0)\n",
            "Requirement already satisfied: pydantic!=1.8,!=1.8.1,<3.0.0,>=1.7.4 in /usr/local/lib/python3.10/dist-packages (from spacy<3.7.0,>=3.6.0->ru-core-news-lg==3.6.0) (1.10.13)\n",
            "Requirement already satisfied: jinja2 in /usr/local/lib/python3.10/dist-packages (from spacy<3.7.0,>=3.6.0->ru-core-news-lg==3.6.0) (3.1.2)\n",
            "Requirement already satisfied: setuptools in /usr/local/lib/python3.10/dist-packages (from spacy<3.7.0,>=3.6.0->ru-core-news-lg==3.6.0) (67.7.2)\n",
            "Requirement already satisfied: packaging>=20.0 in /usr/local/lib/python3.10/dist-packages (from spacy<3.7.0,>=3.6.0->ru-core-news-lg==3.6.0) (23.2)\n",
            "Requirement already satisfied: langcodes<4.0.0,>=3.2.0 in /usr/local/lib/python3.10/dist-packages (from spacy<3.7.0,>=3.6.0->ru-core-news-lg==3.6.0) (3.3.0)\n",
            "Requirement already satisfied: typing-extensions>=4.2.0 in /usr/local/lib/python3.10/dist-packages (from pydantic!=1.8,!=1.8.1,<3.0.0,>=1.7.4->spacy<3.7.0,>=3.6.0->ru-core-news-lg==3.6.0) (4.5.0)\n",
            "Requirement already satisfied: charset-normalizer<4,>=2 in /usr/local/lib/python3.10/dist-packages (from requests<3.0.0,>=2.13.0->spacy<3.7.0,>=3.6.0->ru-core-news-lg==3.6.0) (3.3.2)\n",
            "Requirement already satisfied: idna<4,>=2.5 in /usr/local/lib/python3.10/dist-packages (from requests<3.0.0,>=2.13.0->spacy<3.7.0,>=3.6.0->ru-core-news-lg==3.6.0) (3.6)\n",
            "Requirement already satisfied: urllib3<3,>=1.21.1 in /usr/local/lib/python3.10/dist-packages (from requests<3.0.0,>=2.13.0->spacy<3.7.0,>=3.6.0->ru-core-news-lg==3.6.0) (2.0.7)\n",
            "Requirement already satisfied: certifi>=2017.4.17 in /usr/local/lib/python3.10/dist-packages (from requests<3.0.0,>=2.13.0->spacy<3.7.0,>=3.6.0->ru-core-news-lg==3.6.0) (2023.11.17)\n",
            "Requirement already satisfied: blis<0.8.0,>=0.7.8 in /usr/local/lib/python3.10/dist-packages (from thinc<8.2.0,>=8.1.8->spacy<3.7.0,>=3.6.0->ru-core-news-lg==3.6.0) (0.7.11)\n",
            "Requirement already satisfied: confection<1.0.0,>=0.0.1 in /usr/local/lib/python3.10/dist-packages (from thinc<8.2.0,>=8.1.8->spacy<3.7.0,>=3.6.0->ru-core-news-lg==3.6.0) (0.1.4)\n",
            "Requirement already satisfied: click<9.0.0,>=7.1.1 in /usr/local/lib/python3.10/dist-packages (from typer<0.10.0,>=0.3.0->spacy<3.7.0,>=3.6.0->ru-core-news-lg==3.6.0) (8.1.7)\n",
            "Requirement already satisfied: MarkupSafe>=2.0 in /usr/local/lib/python3.10/dist-packages (from jinja2->spacy<3.7.0,>=3.6.0->ru-core-news-lg==3.6.0) (2.1.3)\n",
            "\u001b[38;5;2m✔ Download and installation successful\u001b[0m\n",
            "You can now load the package via spacy.load('ru_core_news_lg')\n"
          ]
        }
      ],
      "source": [
        "# English wordnet\n",
        "import nltk\n",
        "nltk.download('wordnet')\n",
        "from nltk.corpus import wordnet as wn_en\n",
        "\n",
        "# Russian wordnet\n",
        "!pip install ruwordnet\n",
        "!ruwordnet download\n",
        "from ruwordnet import RuWordNet\n",
        "wn_ru = RuWordNet()\n",
        "\n",
        "# spaCy tools (stop word removal, pos-tagging, lemmatizer)\n",
        "import spacy\n",
        "\n",
        "!python -m spacy download en_core_web_lg\n",
        "model_en = spacy.load('en_core_web_lg')\n",
        "stopwords_en = model_en.Defaults.stop_words\n",
        "\n",
        "!python -m spacy download ru_core_news_lg\n",
        "model_ru = spacy.load('ru_core_news_lg')\n",
        "stopwords_ru = model_ru.Defaults.stop_words"
      ]
    },
    {
      "cell_type": "markdown",
      "source": [
        "# Dataset Generation + Pre-Processing"
      ],
      "metadata": {
        "id": "SeNqa2MA2cqK"
      }
    },
    {
      "cell_type": "markdown",
      "source": [
        "## Import and Format English Dataset"
      ],
      "metadata": {
        "id": "V8Nhv8aUPDuo"
      }
    },
    {
      "cell_type": "code",
      "source": [
        "from nltk.corpus import semcor\n",
        "nltk.download('semcor')\n",
        "\n",
        "words_en = [\"time\", \"world\", \"day\", \"man\", \"woman\", \"thing\", \"life\", \"country\", \"work\", \"place\"]\n",
        "data_en_X = []\n",
        "data_en_y = []\n",
        "\n",
        "tagged_sents = semcor.tagged_sents(tag='sem')\n",
        "sents = semcor.sents()\n",
        "for i in range(len(sents)):\n",
        "  tagged_sent = tagged_sents[i]\n",
        "  sent = sents[i]\n",
        "  for word in tagged_sent:\n",
        "    if isinstance(word, nltk.tree.Tree) and isinstance(word.label(), nltk.corpus.reader.wordnet.Lemma):\n",
        "      if word.label().name() in words_en:\n",
        "        data_en_X.append([sent, words_en.index(word.label().name())])\n",
        "        data_en_y.append(word.label().key())"
      ],
      "metadata": {
        "colab": {
          "base_uri": "https://localhost:8080/"
        },
        "id": "GHIGGUaNPDLj",
        "outputId": "2dbaa08c-38fb-49af-f4da-2df4da37f6ef"
      },
      "execution_count": 2,
      "outputs": [
        {
          "output_type": "stream",
          "name": "stderr",
          "text": [
            "[nltk_data] Downloading package semcor to /root/nltk_data...\n",
            "[nltk_data]   Package semcor is already up-to-date!\n"
          ]
        }
      ]
    },
    {
      "cell_type": "markdown",
      "source": [
        "## Import and Format Russian Dataset"
      ],
      "metadata": {
        "id": "CsDc-Xa7TfCx"
      }
    },
    {
      "cell_type": "code",
      "source": [
        "import csv\n",
        "nltk.download('punkt')\n",
        "\n",
        "file = open(\"opencorpora-rwn.tsv\")\n",
        "rawdata_ru = csv.reader(file, delimiter=\"\\t\")\n",
        "\n",
        "words_ru = [\"время\", \"дело\", \"день\", \"мир\", \"конец\", \"вопрос\", \"голова\", \"страна\", \"работа\", \"место\"]\n",
        "data_ru_X = []\n",
        "data_ru_y = []\n",
        "\n",
        "for line in rawdata_ru:\n",
        "  if line[5].split(' ')[0] in words_ru:\n",
        "    data_ru_X.append([nltk.tokenize.word_tokenize(line[2]), words_ru.index(line[5].split(' ')[0])])\n",
        "    data_ru_y.append(line[6])"
      ],
      "metadata": {
        "colab": {
          "base_uri": "https://localhost:8080/"
        },
        "id": "dRN10SuPUTT5",
        "outputId": "877f0fde-0fe1-453a-d93e-84b7b086aca7"
      },
      "execution_count": 3,
      "outputs": [
        {
          "output_type": "stream",
          "name": "stderr",
          "text": [
            "[nltk_data] Downloading package punkt to /root/nltk_data...\n",
            "[nltk_data]   Package punkt is already up-to-date!\n"
          ]
        }
      ]
    },
    {
      "cell_type": "markdown",
      "source": [
        "## Russian Case Tagger"
      ],
      "metadata": {
        "id": "Ueeh8U5y-SAk"
      }
    },
    {
      "cell_type": "code",
      "source": [
        "def get_case_tag(token):\n",
        "  label_list = str(token.morph).split(sep=\"|\")\n",
        "  case_tag = \"DNE\"\n",
        "  for label in label_list:\n",
        "    if label.split(sep='=')[0] == \"Case\":\n",
        "      case_tag = label.split(sep='=')[1]\n",
        "  return case_tag"
      ],
      "metadata": {
        "id": "TIcEEQRR-RgK"
      },
      "execution_count": 4,
      "outputs": []
    },
    {
      "cell_type": "markdown",
      "source": [
        "## Preprocess Both Datasets"
      ],
      "metadata": {
        "id": "7Oeu0SUjgCRS"
      }
    },
    {
      "cell_type": "code",
      "source": [
        "\"\"\"\n",
        "v1: No preprocessing\n",
        "v2: Remove stopwords\n",
        "v3: Lemmatization\n",
        "v4: POS-tagging\n",
        "v5: Remove stopwords + lemmatization\n",
        "v6: Remove stopwords + POS-tagging\n",
        "v7: Lemmatization + POS-tagging\n",
        "v8: Remove stopwords + lemmatization + POS-tagging\n",
        "v9: Case tagging only\n",
        "v10: Case tagging + remove stopwords\n",
        "v11: Case tagging + lemmatization\n",
        "v12: Case tagging + lemmatization + remove stopwords\n",
        "\"\"\"\n",
        "labels_en = [\"None\", \"RS\", \"Lemma\", \"POS\", \"RS + Lemma\", \"RS + POS\", \"Lemma + POS\", \"RS + Lemma + POS\"]\n",
        "labels_ru = [\"None\", \"RS\", \"Lemma\", \"POS\", \"RS + Lemma\", \"RS + POS\", \"Lemma + POS\", \"RS + Lemma + POS\", \"Case\", \"RS + Case\", \"Lemma + Case\", \"RS + Lemma + Case\"]\n",
        "\n",
        "from sklearn.feature_extraction.text import CountVectorizer\n",
        "from scipy import sparse\n",
        "import string\n",
        "punctuation = [*string.punctuation, \"``\", \"''\", '«', '»']\n",
        "\n",
        "def vectorize(dataset):\n",
        "  vectorizer = CountVectorizer()\n",
        "  new_dataset = vectorizer.fit_transform([' '.join(row[0]) for row in dataset])\n",
        "  new_dataset = sparse.hstack((sparse.csr_matrix([[row[1]] for row in dataset]), new_dataset))\n",
        "  return new_dataset\n",
        "\n",
        "def create_v1(dataset):\n",
        "  new_dataset = []\n",
        "  for sent in dataset:\n",
        "    new_dataset.append([list(map(lambda x : x.lower(), list(filter(lambda x: x.lower() not in punctuation, sent[0])))), sent[1]])\n",
        "  return new_dataset\n",
        "\n",
        "def create_v2(dataset, stopwords):\n",
        "  new_dataset = []\n",
        "  for sent in dataset:\n",
        "    new_dataset.append([list(map(lambda x : x.lower(), list(filter(lambda x: x.lower() not in stopwords and x.lower() not in punctuation, sent[0])))), sent[1]])\n",
        "  return new_dataset\n",
        "\n",
        "def create_v3(dataset, model):\n",
        "  new_dataset = []\n",
        "  for sent in dataset:\n",
        "    lemmatized_sent = []\n",
        "    doc = model(' '.join(sent[0]))\n",
        "    for token in doc:\n",
        "      if str(token) not in punctuation:\n",
        "        lemmatized_sent.append(token.lemma_)\n",
        "    new_dataset.append([lemmatized_sent, sent[1]])\n",
        "  return new_dataset\n",
        "\n",
        "def create_v4(dataset, model):\n",
        "  new_dataset = []\n",
        "  for sent in dataset:\n",
        "    doc = model(' '.join(sent[0]))\n",
        "    tagged_sent = []\n",
        "    for token in doc:\n",
        "      if str(token) not in punctuation:\n",
        "        tagged_sent.append(str(token).lower() + token.pos_)\n",
        "    new_dataset.append([tagged_sent, sent[1]])\n",
        "  return new_dataset\n",
        "\n",
        "def create_v5(dataset, model, stopwords):\n",
        "  new_dataset = []\n",
        "  for sent in dataset:\n",
        "    lemmatized_sent = []\n",
        "    doc = model(' '.join(sent[0]))\n",
        "    for token in doc:\n",
        "      if str(token).lower() not in stopwords and str(token) not in punctuation:\n",
        "        lemmatized_sent.append(token.lemma_)\n",
        "    new_dataset.append([lemmatized_sent, sent[1]])\n",
        "  return new_dataset\n",
        "\n",
        "def create_v6(dataset, model, stopwords):\n",
        "  new_dataset = []\n",
        "  for sent in dataset:\n",
        "    doc = model(' '.join(sent[0]))\n",
        "    tagged_sent = []\n",
        "    for token in doc:\n",
        "      if str(token).lower() not in stopwords and str(token) not in punctuation:\n",
        "        tagged_sent.append(str(token).lower() + token.pos_)\n",
        "    new_dataset.append([tagged_sent, sent[1]])\n",
        "  return new_dataset\n",
        "\n",
        "def create_v7(dataset, model):\n",
        "  new_dataset = []\n",
        "  for sent in dataset:\n",
        "    processed_sent = []\n",
        "    doc = model(' '.join(sent[0]))\n",
        "    for token in doc:\n",
        "      if str(token) not in punctuation:\n",
        "        processed_sent.append(token.lemma_ + token.pos_)\n",
        "    new_dataset.append([processed_sent, sent[1]])\n",
        "  return new_dataset\n",
        "\n",
        "def create_v8(dataset, model, stopwords):\n",
        "  new_dataset = []\n",
        "  for sent in dataset:\n",
        "    processed_sent = []\n",
        "    doc = model(' '.join(sent[0]))\n",
        "    for token in doc:\n",
        "      if str(token).lower() not in stopwords and str(token) not in punctuation:\n",
        "        processed_sent.append(token.lemma_ + token.pos_)\n",
        "    new_dataset.append([processed_sent, sent[1]])\n",
        "  return new_dataset\n",
        "\n",
        "def create_v9(dataset, model):\n",
        "  new_dataset = []\n",
        "  for sent in dataset:\n",
        "    doc = model(' '.join(sent[0]))\n",
        "    tagged_sent = []\n",
        "    for token in doc:\n",
        "      if str(token) not in punctuation:\n",
        "        tagged_sent.append(str(token).lower() + get_case_tag(token))\n",
        "    new_dataset.append([tagged_sent, sent[1]])\n",
        "  return new_dataset\n",
        "\n",
        "def create_v10(dataset, model, stopwords):\n",
        "  new_dataset = []\n",
        "  for sent in dataset:\n",
        "    doc = model(' '.join(sent[0]))\n",
        "    tagged_sent = []\n",
        "    for token in doc:\n",
        "      if str(token).lower() not in stopwords and str(token) not in punctuation:\n",
        "        tagged_sent.append(str(token).lower() + get_case_tag(token))\n",
        "    new_dataset.append([tagged_sent, sent[1]])\n",
        "  return new_dataset\n",
        "\n",
        "def create_v11(dataset, model):\n",
        "  new_dataset = []\n",
        "  for sent in dataset:\n",
        "    processed_sent = []\n",
        "    doc = model(' '.join(sent[0]))\n",
        "    for token in doc:\n",
        "      if str(token) not in punctuation:\n",
        "        processed_sent.append(token.lemma_ + get_case_tag(token))\n",
        "    new_dataset.append([processed_sent, sent[1]])\n",
        "  return new_dataset\n",
        "\n",
        "def create_v12(dataset, model, stopwords):\n",
        "  new_dataset = []\n",
        "  for sent in dataset:\n",
        "    processed_sent = []\n",
        "    doc = model(' '.join(sent[0]))\n",
        "    for token in doc:\n",
        "      if str(token).lower() not in stopwords and str(token) not in punctuation:\n",
        "        processed_sent.append(token.lemma_ + get_case_tag(token))\n",
        "    new_dataset.append([processed_sent, sent[1]])\n",
        "  return new_dataset\n",
        "\n",
        "preprocessed_data_en, preprocessed_data_ru = [], []\n",
        "\n",
        "# Prepare v1 of the datasets\n",
        "preprocessed_data_en.append(vectorize(create_v1(data_en_X)))\n",
        "preprocessed_data_ru.append(vectorize(create_v1(data_ru_X)))\n",
        "\n",
        "# Prepare v2 of the datasets\n",
        "preprocessed_data_en.append(vectorize(create_v2(data_en_X, stopwords_en)))\n",
        "preprocessed_data_ru.append(vectorize(create_v2(data_ru_X, stopwords_ru)))\n",
        "\n",
        "# Prepare v3 of the datasets\n",
        "preprocessed_data_en.append(vectorize(create_v3(data_en_X, model_en)))\n",
        "preprocessed_data_ru.append(vectorize(create_v3(data_ru_X, model_ru)))\n",
        "\n",
        "# Prepare v4 of the datasets\n",
        "preprocessed_data_en.append(vectorize(create_v4(data_en_X, model_en)))\n",
        "preprocessed_data_ru.append(vectorize(create_v4(data_ru_X, model_ru)))\n",
        "\n",
        "# Prepare v5 of the datasets\n",
        "preprocessed_data_en.append(vectorize(create_v5(data_en_X, model_en, stopwords_en)))\n",
        "preprocessed_data_ru.append(vectorize(create_v5(data_ru_X, model_ru, stopwords_ru)))\n",
        "\n",
        "# Prepare v6 of the datasets\n",
        "preprocessed_data_en.append(vectorize(create_v6(data_en_X, model_en, stopwords_en)))\n",
        "preprocessed_data_ru.append(vectorize(create_v6(data_ru_X, model_ru, stopwords_ru)))\n",
        "\n",
        "# Prepare v7 of the datasets\n",
        "preprocessed_data_en.append(vectorize(create_v7(data_en_X, model_en)))\n",
        "preprocessed_data_ru.append(vectorize(create_v7(data_ru_X, model_ru)))\n",
        "\n",
        "# Prepare v8 of the datasets\n",
        "preprocessed_data_en.append(vectorize(create_v8(data_en_X, model_en, stopwords_en)))\n",
        "preprocessed_data_ru.append(vectorize(create_v8(data_ru_X, model_ru, stopwords_ru)))\n",
        "\n",
        "# Prepare v9 of the Russian dataset\n",
        "preprocessed_data_ru.append(vectorize(create_v9(data_ru_X, model_ru)))\n",
        "\n",
        "# Prepare v10 of the Russian dataset\n",
        "preprocessed_data_ru.append(vectorize(create_v10(data_ru_X, model_ru, stopwords_ru)))\n",
        "\n",
        "# Prepare v11 of the Russian dataset\n",
        "preprocessed_data_ru.append(vectorize(create_v11(data_ru_X, model_ru)))\n",
        "\n",
        "# Prepare v12 of the Russian dataset\n",
        "preprocessed_data_ru.append(vectorize(create_v12(data_ru_X, model_ru, stopwords_ru)))"
      ],
      "metadata": {
        "id": "fRaWbk1sgFEQ"
      },
      "execution_count": 5,
      "outputs": []
    },
    {
      "cell_type": "markdown",
      "source": [
        "## Train-Test-Validate Split"
      ],
      "metadata": {
        "id": "Uw7Mn_SRbtKO"
      }
    },
    {
      "cell_type": "code",
      "source": [
        "from sklearn.model_selection import train_test_split\n",
        "\n",
        "X_train_en, X_train_ru, y_train_en, y_train_ru = [], [], [], []\n",
        "X_test_en, X_test_ru, y_test_en, y_test_ru = [], [], [], []\n",
        "X_valid_en, X_valid_ru, y_valid_en, y_valid_ru = [], [], [], []\n",
        "\n",
        "for dataset in preprocessed_data_en:\n",
        "  X_train, X_test, y_train, y_test = train_test_split(dataset, data_en_y, test_size=0.30, random_state=10)\n",
        "  X_test, X_valid, y_test, y_valid = train_test_split(X_test, y_test, test_size=0.50, random_state=10)\n",
        "  X_train_en.append(X_train)\n",
        "  X_test_en.append(X_test)\n",
        "  X_valid_en.append(X_valid)\n",
        "  y_train_en.append(y_train)\n",
        "  y_test_en.append(y_test)\n",
        "  y_valid_en.append(y_valid)\n",
        "\n",
        "for dataset in preprocessed_data_ru:\n",
        "  X_train, X_test, y_train, y_test = train_test_split(dataset, data_ru_y, test_size=0.30, random_state=10)\n",
        "  X_test, X_valid, y_test, y_valid = train_test_split(X_test, y_test, test_size=0.50, random_state=10)\n",
        "  X_train_ru.append(X_train)\n",
        "  X_test_ru.append(X_test)\n",
        "  X_valid_ru.append(X_valid)\n",
        "  y_train_ru.append(y_train)\n",
        "  y_test_ru.append(y_test)\n",
        "  y_valid_ru.append(y_valid)"
      ],
      "metadata": {
        "id": "6e7_8K9QbruD"
      },
      "execution_count": 6,
      "outputs": []
    },
    {
      "cell_type": "markdown",
      "source": [
        "# Train Models"
      ],
      "metadata": {
        "id": "ShczbvE011Am"
      }
    },
    {
      "cell_type": "code",
      "source": [
        "from sklearn.naive_bayes import ComplementNB\n",
        "\n",
        "resultsNB_en = []\n",
        "for i in range(len(X_train_en)):\n",
        "  y_pred = ComplementNB().fit(X_train_en[i].toarray(), y_train_en[i]).predict(X_test_en[i].toarray())\n",
        "  print(\"Accuracy of \" + labels_en[i] + \"(English): \" + str((y_test_en[i] == y_pred).sum() / X_test_en[i].shape[0]))\n",
        "  resultsNB_en.append((y_test_en[i] == y_pred).sum() / X_test_en[i].shape[0])\n",
        "\n",
        "resultsNB_ru = []\n",
        "for i in range(len(X_train_ru)):\n",
        "  y_pred = ComplementNB().fit(X_train_ru[i].toarray(), y_train_ru[i]).predict(X_test_ru[i].toarray())\n",
        "  print(\"Accuracy of \" + labels_ru[i] + \"(Russian): \" + str((y_test_ru[i] == y_pred).sum() / X_test_ru[i].shape[0]))\n",
        "  resultsNB_ru.append((y_test_ru[i] == y_pred).sum() / X_test_ru[i].shape[0])"
      ],
      "metadata": {
        "id": "JkMQDtV1HfHV",
        "colab": {
          "base_uri": "https://localhost:8080/"
        },
        "outputId": "abd06c61-0ffe-4319-f30c-a8283f1f1d20"
      },
      "execution_count": 7,
      "outputs": [
        {
          "output_type": "stream",
          "name": "stdout",
          "text": [
            "Accuracy of None(English): 0.34773218142548595\n",
            "Accuracy of RS(English): 0.3282937365010799\n",
            "Accuracy of Lemma(English): 0.3369330453563715\n",
            "Accuracy of POS(English): 0.3563714902807775\n",
            "Accuracy of RS + Lemma(English): 0.3045356371490281\n",
            "Accuracy of RS + POS(English): 0.3326133909287257\n",
            "Accuracy of Lemma + POS(English): 0.3412526997840173\n",
            "Accuracy of RS + Lemma + POS(English): 0.31965442764578833\n",
            "Accuracy of None(Russian): 0.5782312925170068\n",
            "Accuracy of RS(Russian): 0.5714285714285714\n",
            "Accuracy of Lemma(Russian): 0.5238095238095238\n",
            "Accuracy of POS(Russian): 0.5714285714285714\n",
            "Accuracy of RS + Lemma(Russian): 0.5170068027210885\n",
            "Accuracy of RS + POS(Russian): 0.5578231292517006\n",
            "Accuracy of Lemma + POS(Russian): 0.5238095238095238\n",
            "Accuracy of RS + Lemma + POS(Russian): 0.5102040816326531\n",
            "Accuracy of Case(Russian): 0.5714285714285714\n",
            "Accuracy of RS + Case(Russian): 0.5578231292517006\n",
            "Accuracy of Lemma + Case(Russian): 0.5374149659863946\n",
            "Accuracy of RS + Lemma + Case(Russian): 0.54421768707483\n"
          ]
        }
      ]
    },
    {
      "cell_type": "code",
      "source": [
        "from sklearn import svm\n",
        "\n",
        "resultsSVM_en = []\n",
        "for i in range(len(X_train_en)):\n",
        "  y_pred = svm.SVC().fit(X_train_en[i].toarray(), y_train_en[i]).predict(X_test_en[i].toarray())\n",
        "  print(\"Accuracy of \" + labels_en[i] + \"(English): \" + str((y_test_en[i] == y_pred).sum() / X_test_en[i].shape[0]))\n",
        "  resultsSVM_en.append((y_test_en[i] == y_pred).sum() / X_test_en[i].shape[0])\n",
        "\n",
        "resultsSVM_ru = []\n",
        "for i in range(len(X_train_ru)):\n",
        "  y_pred = svm.SVC().fit(X_train_ru[i].toarray(), y_train_ru[i]).predict(X_test_ru[i].toarray())\n",
        "  print(\"Accuracy of \" + labels_ru[i] + \"(Russian): \" + str((y_test_ru[i] == y_pred).sum() / X_test_ru[i].shape[0]))\n",
        "  resultsSVM_ru.append((y_test_ru[i] == y_pred).sum() / X_test_ru[i].shape[0])"
      ],
      "metadata": {
        "colab": {
          "base_uri": "https://localhost:8080/"
        },
        "id": "bxLzewP9qqO5",
        "outputId": "fd51d1ec-6dda-4d59-92fe-aa89dfa01ebe"
      },
      "execution_count": 9,
      "outputs": [
        {
          "output_type": "stream",
          "name": "stdout",
          "text": [
            "Accuracy of None(English): 0.47516198704103674\n",
            "Accuracy of RS(English): 0.4708423326133909\n",
            "Accuracy of Lemma(English): 0.4557235421166307\n",
            "Accuracy of POS(English): 0.4708423326133909\n",
            "Accuracy of RS + Lemma(English): 0.45788336933045354\n",
            "Accuracy of RS + POS(English): 0.4773218142548596\n",
            "Accuracy of Lemma + POS(English): 0.4708423326133909\n",
            "Accuracy of RS + Lemma + POS(English): 0.48596112311015116\n",
            "Accuracy of None(Russian): 0.6394557823129252\n",
            "Accuracy of RS(Russian): 0.6462585034013606\n",
            "Accuracy of Lemma(Russian): 0.6258503401360545\n",
            "Accuracy of POS(Russian): 0.6326530612244898\n",
            "Accuracy of RS + Lemma(Russian): 0.6462585034013606\n",
            "Accuracy of RS + POS(Russian): 0.6598639455782312\n",
            "Accuracy of Lemma + POS(Russian): 0.6122448979591837\n",
            "Accuracy of RS + Lemma + POS(Russian): 0.6530612244897959\n",
            "Accuracy of Case(Russian): 0.6122448979591837\n",
            "Accuracy of RS + Case(Russian): 0.6462585034013606\n",
            "Accuracy of Lemma + Case(Russian): 0.6190476190476191\n",
            "Accuracy of RS + Lemma + Case(Russian): 0.6462585034013606\n"
          ]
        }
      ]
    },
    {
      "cell_type": "code",
      "source": [
        "from sklearn.neural_network import MLPClassifier\n",
        "\n",
        "resultsMLP_en = []\n",
        "for i in range(len(X_train_en)):\n",
        "  y_pred = MLPClassifier(random_state=1, max_iter=300).fit(X_train_en[i].toarray(), y_train_en[i]).predict(X_test_en[i].toarray())\n",
        "  print(\"Accuracy of \" + labels_en[i] + \"(English): \" + str((y_test_en[i] == y_pred).sum() / X_test_en[i].shape[0]))\n",
        "  resultsMLP_en.append((y_test_en[i] == y_pred).sum() / X_test_en[i].shape[0])\n",
        "\n",
        "resultsMLP_ru = []\n",
        "for i in range(len(X_train_ru)):\n",
        "  y_pred = MLPClassifier(random_state=1, max_iter=300, hidden_layer_sizes=(100,100,)).fit(X_train_ru[i].toarray(), y_train_ru[i]).predict(X_test_ru[i].toarray())\n",
        "  print(\"Accuracy of \" + labels_ru[i] + \"(Russian): \" + str((y_test_ru[i] == y_pred).sum() / X_test_ru[i].shape[0]))\n",
        "  resultsMLP_ru.append((y_test_ru[i] == y_pred).sum() / X_test_ru[i].shape[0])"
      ],
      "metadata": {
        "colab": {
          "base_uri": "https://localhost:8080/"
        },
        "id": "WxteZvi8aH1f",
        "outputId": "11b35979-2056-4e01-ce58-88fdb680e779"
      },
      "execution_count": 19,
      "outputs": [
        {
          "output_type": "stream",
          "name": "stdout",
          "text": [
            "Accuracy of None(English): 0.42116630669546434\n",
            "Accuracy of RS(English): 0.39740820734341253\n",
            "Accuracy of Lemma(English): 0.4427645788336933\n",
            "Accuracy of POS(English): 0.4298056155507559\n"
          ]
        },
        {
          "output_type": "stream",
          "name": "stderr",
          "text": [
            "/usr/local/lib/python3.10/dist-packages/sklearn/neural_network/_multilayer_perceptron.py:686: ConvergenceWarning: Stochastic Optimizer: Maximum iterations (300) reached and the optimization hasn't converged yet.\n",
            "  warnings.warn(\n"
          ]
        },
        {
          "output_type": "stream",
          "name": "stdout",
          "text": [
            "Accuracy of RS + Lemma(English): 0.42116630669546434\n",
            "Accuracy of RS + POS(English): 0.42764578833693306\n",
            "Accuracy of Lemma + POS(English): 0.4319654427645788\n"
          ]
        },
        {
          "output_type": "stream",
          "name": "stderr",
          "text": [
            "/usr/local/lib/python3.10/dist-packages/sklearn/neural_network/_multilayer_perceptron.py:686: ConvergenceWarning: Stochastic Optimizer: Maximum iterations (300) reached and the optimization hasn't converged yet.\n",
            "  warnings.warn(\n"
          ]
        },
        {
          "output_type": "stream",
          "name": "stdout",
          "text": [
            "Accuracy of RS + Lemma + POS(English): 0.38876889848812096\n",
            "Accuracy of None(Russian): 0.5306122448979592\n",
            "Accuracy of RS(Russian): 0.5782312925170068\n",
            "Accuracy of Lemma(Russian): 0.6326530612244898\n",
            "Accuracy of POS(Russian): 0.564625850340136\n",
            "Accuracy of RS + Lemma(Russian): 0.5986394557823129\n",
            "Accuracy of RS + POS(Russian): 0.5306122448979592\n",
            "Accuracy of Lemma + POS(Russian): 0.6054421768707483\n",
            "Accuracy of RS + Lemma + POS(Russian): 0.5714285714285714\n",
            "Accuracy of Case(Russian): 0.54421768707483\n",
            "Accuracy of RS + Case(Russian): 0.4965986394557823\n",
            "Accuracy of Lemma + Case(Russian): 0.5238095238095238\n",
            "Accuracy of RS + Lemma + Case(Russian): 0.5102040816326531\n"
          ]
        }
      ]
    },
    {
      "cell_type": "markdown",
      "source": [
        "# Visualize Results"
      ],
      "metadata": {
        "id": "UY3VhIlA1gQG"
      }
    },
    {
      "cell_type": "code",
      "source": [
        "import pandas\n",
        "import matplotlib.pyplot as plt\n",
        "import numpy as np\n",
        "\n",
        "df = pandas.DataFrame(dict(graph=labels_en, a=resultsNB_en, b=resultsMLP_en, c=resultsSVM_en))\n",
        "ind = np.arange(len(df))\n",
        "width = 0.2\n",
        "fig, ax = plt.subplots()\n",
        "ax.barh(ind, df.a, width, color='blue', label='NB')\n",
        "ax.barh(ind + width, df.b, width, color='red', label='MLP')\n",
        "ax.barh(ind + 2*width, df.c, width, color='green', label='SVM')\n",
        "ax.set(yticks=ind + width, yticklabels=df.graph, ylim=[2*width - 1, len(df)])\n",
        "ax.legend()\n",
        "plt.title(\"Results with English dataset\")\n",
        "plt.xlabel(\"Accuracy\")\n",
        "plt.show()\n",
        "\n",
        "df = pandas.DataFrame(dict(graph=labels_ru, a=resultsNB_ru, b=resultsMLP_ru, c=resultsSVM_ru))\n",
        "ind = np.arange(len(df))\n",
        "width = 0.2\n",
        "fig, ax = plt.subplots()\n",
        "ax.barh(ind, df.a, width, color='blue', label='NB')\n",
        "ax.barh(ind + width, df.b, width, color='red', label='MLP')\n",
        "ax.barh(ind + 2*width, df.c, width, color='green', label='SVM')\n",
        "ax.set(yticks=ind + width, yticklabels=df.graph, ylim=[2*width - 1, len(df)])\n",
        "ax.legend()\n",
        "plt.title(\"Results with Russian dataset\")\n",
        "plt.xlabel(\"Accuracy\")\n",
        "plt.show()"
      ],
      "metadata": {
        "colab": {
          "base_uri": "https://localhost:8080/",
          "height": 927
        },
        "id": "_Mca7iTQ1ff1",
        "outputId": "98ed7345-f902-4e07-c1e7-17d45897728c"
      },
      "execution_count": 20,
      "outputs": [
        {
          "output_type": "display_data",
          "data": {
            "text/plain": [
              "<Figure size 640x480 with 1 Axes>"
            ],
            "image/png": "[encoded data removed]"
          },
          "metadata": {}
        },
        {
          "output_type": "display_data",
          "data": {
            "text/plain": [
              "<Figure size 640x480 with 1 Axes>"
            ],
            "image/png": "[encoded data removed]"
          },
          "metadata": {}
        }
      ]
    }
  ]
}